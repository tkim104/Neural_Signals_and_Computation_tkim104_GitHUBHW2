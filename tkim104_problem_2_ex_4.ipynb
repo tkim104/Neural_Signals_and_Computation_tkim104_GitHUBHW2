{
  "nbformat": 4,
  "nbformat_minor": 0,
  "metadata": {
    "colab": {
      "provenance": []
    },
    "kernelspec": {
      "name": "python3",
      "display_name": "Python 3"
    },
    "language_info": {
      "name": "python"
    }
  },
  "cells": [
    {
      "cell_type": "markdown",
      "source": [
        "#Problem 2: Dimensionality reduction\n",
        "Consider a dataset where M neurons are recorded during repeated trials of a reach task. The resulting data is a number of matrices (one per trial) that is N ×T (number of neurons by time - in 1 ms bins) where Xit represents the number of spikes for neuron i during the time-bin t. This problem will consider the dimensionality reduction approach of finding the underlying patterns of neural activity common across trials. Specifically we will first look at standard PCA before and after processing (to highlight the benefit of priors over spike-rates). We will then look at applying an external package that finds smooth spike-rates underlying the neural activity automatically (Gaussian Process Factor Analysis).\n",
        "\n",
        "#Part D\n",
        "Given trial-by-trial variability, what do you think could be reasonable explanations for the observed deviations of the low-dimensional neural trajectory. Pick one of these hypotheses and describe a theoretical way to test a prediction made by that hypothesis."
      ],
      "metadata": {
        "id": "Y2znfqK8o6Qy"
      }
    },
    {
      "cell_type": "markdown",
      "source": [
        "Given trial by trial variability, a possible explanation for deviations in low-dimensional neural trajectories could be caused by changes in behavior or action during an experiment. If there is not enough controls within the experiment, additional noise and variability in the actions of the subject could cause significant changes in trajectory if those parts of the neural architecture are sensitive to the smallest changes in intent and action of the experiment. Another possible cause could be sensitivity to initial states of the neural space before experimentation begins, or alterations of the neural function given speicific times. Overall, a possible way to test the hypothesis would require further analysis in the neural system, whether or not initial changes in environment could contribute to the dynamical function changing over time, rather than being static across trials and time. This would require considering the whole time frame of the trials, and even before hand to try and measured changes within those states."
      ],
      "metadata": {
        "id": "TH7K7lrno8cx"
      }
    }
  ]
}